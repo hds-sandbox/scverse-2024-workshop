{
  "cells": [
    {
      "cell_type": "markdown",
      "metadata": {
        "id": "4THLio09Ur1N"
      },
      "source": [
        "# Workshop start\n",
        "\n",
        "Here you will go through some different ways of projecting single cell data. You start with PCA-based projections, then move to geometry-based projections and diagnostic ways of choosing the method which matches best your data.\n",
        "At the end, you will\n",
        "\n",
        "- understand briefly the difference between **modeling distances and geometry**\n",
        "- know how to apply the methods **with scanpy**\n",
        "- be able to **compare the methods** and their **distortions**\n",
        "\n",
        "# Notebook setup\n",
        "\n",
        "Here we install some packages, download a file with scripts and the data from the github repository"
      ]
    },
    {
      "cell_type": "code",
      "execution_count": null,
      "metadata": {
        "colab": {
          "base_uri": "https://localhost:8080/"
        },
        "id": "fxISVT6TOGJj",
        "outputId": "793a6b77-e4da-4e6e-feef-469fe309fd41"
      },
      "outputs": [],
      "source": [
        "%pip install --quiet scanpy topometry hnswlib pacmap plotly igraph leidenalg scvelo jupyterquiz git+https://github.com/DmitryUlyanov/Multicore-TSNE.git"
      ]
    },
    {
      "cell_type": "markdown",
      "metadata": {
        "id": "pu1xXw4Oa4wh"
      },
      "source": [
        "Load packages"
      ]
    },
    {
      "cell_type": "code",
      "execution_count": null,
      "metadata": {
        "id": "26qVa3iLOYRa"
      },
      "outputs": [],
      "source": [
        "import pandas as pd\n",
        "import numpy as np\n",
        "import seaborn as sns\n",
        "import matplotlib.pyplot as plt\n",
        "import matplotlib as mpl\n",
        "import sklearn\n",
        "from scipy.cluster import hierarchy as sch\n",
        "import re\n",
        "import pacmap\n",
        "import topo as tp\n",
        "import scvelo as scv\n",
        "from jupyterquiz import display_quiz\n",
        "from matplotlib import pyplot as plt\n",
        "import scanpy as sc\n",
        "import plotly.express as px\n",
        "\n",
        "%matplotlib inline"
      ]
    },
    {
      "cell_type": "markdown",
      "metadata": {
        "id": "LhyHhyIOa89u"
      },
      "source": [
        "Setup some default figure parameters"
      ]
    },
    {
      "cell_type": "code",
      "execution_count": null,
      "metadata": {
        "id": "aTrDHjmSzzED"
      },
      "outputs": [],
      "source": [
        "scv.set_figure_params('scvelo', dpi=100, fontsize=14, dpi_save=600, format='tif')"
      ]
    },
    {
      "cell_type": "markdown",
      "metadata": {
        "id": "ZC9ELv9WbBRI"
      },
      "source": [
        "Download scripts"
      ]
    },
    {
      "cell_type": "code",
      "execution_count": null,
      "metadata": {
        "id": "pvApQ3dmRP2B"
      },
      "outputs": [],
      "source": [
        "!wget -q https://github.com/hds-sandbox/scverse-2024-workshop/raw/main/Scripts/scripts.py\n",
        "%run scripts.py"
      ]
    },
    {
      "cell_type": "markdown",
      "metadata": {
        "id": "R4R7PtXNbDuH"
      },
      "source": [
        "Download data from github repository"
      ]
    },
    {
      "cell_type": "code",
      "execution_count": null,
      "metadata": {
        "id": "ocrNF7NyEnu0"
      },
      "outputs": [],
      "source": [
        "!wget -q https://github.com/hds-sandbox/scverse-2024-workshop/raw/main/Data/testis.h5ad.gz\n",
        "!gunzip testis.h5ad.gz"
      ]
    },
    {
      "cell_type": "markdown",
      "metadata": {
        "id": "mSWrteUzUpjh"
      },
      "source": [
        "## Data\n",
        "\n",
        "The dataset is from human testicular tissue, that is divided in round tubules. Each tubule contains spermatogonia cells which are the beginning of the differentiation process, which leads to elongating spermatids (spermatozoa). See figure below.\n",
        "\n",
        "Other somatic cell types assist the differentiation and movement of cells, and are usually out of the tubules. **Below:** a section of testis tissue where cells differentiate inside a tubule to become spermatozoa towards the center.\n",
        "\n",
        "![](https://hds-sandbox.github.io/NGS_summer_course_Aarhus/nb/images/celltypes.png)\n",
        "\n",
        "The dataset is a subsample of 10,000 cells from ([Winge et al., 2020](https://pubmed.ncbi.nlm.nih.gov/32449318/)), already filtered down to 7765 cells. The full data [is downloadable](https://cells.ucsc.edu/?ds=testis) and you can find the exact filtering procedure in our [summer school tutorial](https://hds-sandbox.github.io/NGS_summer_course_Aarhus/nb/04_scRNAseq_analysis.html).\n",
        "\n",
        "We read the data in h5ad format"
      ]
    },
    {
      "cell_type": "code",
      "execution_count": null,
      "metadata": {
        "id": "YlkMx7rWN6qo"
      },
      "outputs": [],
      "source": [
        "adata = sc.read(\"testis.h5ad\")"
      ]
    },
    {
      "cell_type": "markdown",
      "metadata": {
        "id": "ICsE8fJGWdrf"
      },
      "source": [
        "This is an annotated data (anndata) object. You can look at the object size and content here. We mostly have some cell-related QC measures in `obs`, and the number of cells expressing each gene in `var`."
      ]
    },
    {
      "cell_type": "code",
      "execution_count": null,
      "metadata": {
        "colab": {
          "base_uri": "https://localhost:8080/"
        },
        "id": "v-XPcxPHRxj-",
        "outputId": "14dd5e97-129c-4b32-ccb6-594fee8ae77a"
      },
      "outputs": [],
      "source": [
        "adata"
      ]
    },
    {
      "cell_type": "markdown",
      "metadata": {
        "id": "Fuig3XFLWqix"
      },
      "source": [
        "Here we proceed with just a rough normalization in the interest of time (transcript per million + logarithm + standardization). In the meanwhile we determine the 5000 most variable genes. A bit more info on normalization [here](https://hds-sandbox.github.io/NGS_summer_course_Aarhus/nb/04_scRNAseq_analysis.html#data-normalization) if you want to read. Also consider [this paper](https://www.frontiersin.org/journals/genetics/articles/10.3389/fgene.2020.00041/full) and the [scVerse best practices chapter on normalization](https://www.sc-best-practices.org/preprocessing_visualization/normalization.html)."
      ]
    },
    {
      "cell_type": "code",
      "execution_count": null,
      "metadata": {
        "id": "CIj-NOMAG_sK"
      },
      "outputs": [],
      "source": [
        "sc.pp.normalize_total(adata)\n",
        "sc.pp.log1p(adata)\n",
        "sc.pp.highly_variable_genes(adata, n_top_genes=5000)\n",
        "sc.pp.scale(adata, max_value=10)"
      ]
    },
    {
      "cell_type": "markdown",
      "metadata": {
        "id": "hRlBO6JHXWlD"
      },
      "source": [
        "# Projections\n",
        "\n",
        "Now we look at various projections methods.\n",
        "\n",
        "## PCA\n",
        "\n",
        "We start with the usual projection methods everyone starts with after preprocessing, PCA.\n",
        "\n",
        "**PCA is usually the starting point of most calculations in scRNA analysis.**\n",
        "\n",
        "The PCA plot is not able to show much structure in the data, it seems we simply have two long clusters of cells."
      ]
    },
    {
      "cell_type": "code",
      "execution_count": null,
      "metadata": {
        "colab": {
          "base_uri": "https://localhost:8080/",
          "height": 363
        },
        "id": "fcLdZJrJKdRH",
        "outputId": "8cbad926-b457-4afa-e0e7-1570655df97f"
      },
      "outputs": [],
      "source": [
        "sc.pp.pca(adata, random_state=123) #calculate PCA\n",
        "plt.rcParams['figure.figsize']=(4,4)\n",
        "sc.pl.pca(adata) #plot PCA"
      ]
    },
    {
      "cell_type": "markdown",
      "metadata": {
        "id": "--Nflk0KelO1"
      },
      "source": [
        "How many components are we able to detect with PCA's linear separation? It seems 10 principal components contain most of the data's variance."
      ]
    },
    {
      "cell_type": "code",
      "execution_count": null,
      "metadata": {
        "colab": {
          "base_uri": "https://localhost:8080/",
          "height": 417
        },
        "id": "fYCr-cTTZJkH",
        "outputId": "7a9ff788-c292-4ade-8766-3660824a7fcd"
      },
      "outputs": [],
      "source": [
        "sc.pl.pca_variance_ratio(adata)"
      ]
    },
    {
      "cell_type": "code",
      "execution_count": null,
      "metadata": {
        "colab": {
          "base_uri": "https://localhost:8080/",
          "height": 343
        },
        "id": "hdeejSGbVmsf",
        "outputId": "ab58718d-0053-4beb-a086-5d2ad925a9c9"
      },
      "outputs": [],
      "source": [
        "#| echo: false\n",
        "git_url='https://raw.githubusercontent.com/hds-sandbox/scverse-2024-workshop/main/Questions/quiz00.json'\n",
        "display_quiz(git_url, 1, shuffle_answers=True)"
      ]
    },
    {
      "cell_type": "markdown",
      "metadata": {
        "id": "b5nhDiCNfKDe"
      },
      "source": [
        "## tSNE\n",
        "\n",
        "Now we want to try out tSNE. tSNE is a graph optimization algorithm, and it is based on optimizing a cost function which balances two *strenghts*: an **attractive** one and a **repulsive** one.\n",
        "\n",
        "The **attractive force** draws points closer to each other privileging the global structure (e.g. overall relative position of clusters), while the **repulsive force** pushes distant points far away, preserving the local structure (e.g. such as cluster separation). More on tSNE [in the original paper](https://jmlr.org/papers/v9/vandermaaten08a.html) and in this [guidance paper](https://arxiv.org/abs/2105.07536).\n",
        "\n",
        "Distances are calculated through a **gaussian kernel in high-dimensional data, and with t-student in the projection** (figure below). A parameter called *perplexity* determines the width of the gaussian.\n",
        "\n",
        "![](https://raw.githubusercontent.com/hds-sandbox/scverse-2024-workshop/webpage-quarto/img/kernels.png)\n",
        "\n",
        "We try to plot tSNE with perplexities 1, 10, 100 to see how we can get different tSNEs.\n",
        "\n",
        "First of all, we calculate distances on the 10 PCA components - **which means tSNE will be based on PCA distances** (so a non-linear projection is using a linear projection to start with)."
      ]
    },
    {
      "cell_type": "code",
      "execution_count": null,
      "metadata": {
        "id": "elYnT_5nZKiJ"
      },
      "outputs": [],
      "source": [
        "sc.pp.neighbors(adata, n_pcs=10, random_state=123)"
      ]
    },
    {
      "cell_type": "markdown",
      "metadata": {
        "id": "pC5ZqCwbgbzU"
      },
      "source": [
        "Now we run tSNE three times and plot it. We use only 1000 cells because it runs otherwise slow."
      ]
    },
    {
      "cell_type": "code",
      "execution_count": null,
      "metadata": {
        "id": "5C4JWwJFzo7s"
      },
      "outputs": [],
      "source": [
        "perps = [1,10,100]\n",
        "adata_subset = sc.pp.subsample(adata, n_obs=1000, copy=True)\n",
        "for i in range(3):\n",
        "  sc.tl.tsne(adata_subset, perplexity=perps[i], n_jobs=4, n_pcs=10, random_state=123)\n",
        "  adata_subset.obsm[f'X_tsne_P{perps[i]}_'] = adata_subset.obsm[f'X_tsne'].copy()"
      ]
    },
    {
      "cell_type": "code",
      "execution_count": null,
      "metadata": {
        "colab": {
          "base_uri": "https://localhost:8080/",
          "height": 386
        },
        "id": "lt2pgMHeg8GB",
        "outputId": "abf46af6-a2f7-4520-bc12-a985f1b1a360"
      },
      "outputs": [],
      "source": [
        "plt.rcParams['figure.figsize']=(10,4)\n",
        "fig, axs = plt.subplots(1,3)\n",
        "perps = [1,10,100]\n",
        "for i in range(3):\n",
        "  f=sc.pl.scatter(adata_subset, basis=f'tsne_P{perps[i]}_', ax=axs[i],\n",
        "                show=False, title=f'perplexity {perps[i]}')\n",
        "fig.show()"
      ]
    },
    {
      "cell_type": "code",
      "execution_count": null,
      "metadata": {
        "colab": {
          "base_uri": "https://localhost:8080/",
          "height": 366
        },
        "id": "fYq0xSaC_ktF",
        "outputId": "957ebfe7-fccc-4e58-bacc-f98a077b8e66"
      },
      "outputs": [],
      "source": [
        "#| echo: false\n",
        "git_url='https://raw.githubusercontent.com/hds-sandbox/scverse-2024-workshop/main/Questions/quiz01.json'\n",
        "display_quiz(git_url, 1, shuffle_answers=True)"
      ]
    },
    {
      "cell_type": "markdown",
      "metadata": {
        "id": "XKVrO7R4_4f1"
      },
      "source": [
        "## UMAP\n",
        "\n",
        "UMAP is also a graph optimization algorithm like tSNE. It also ends up **balancing attractive and repulsive forces** like the tSNE algorithm. Those two forces change their weight using parameters *a* and *b*.\n",
        "\n",
        "**Choose below the a and b parameters** and test which plot you get. Try as many times as you want before continuing. Usually, values of `a` and `b` are not much distant from 1 and chosen automatically by UMAP, but it is worth tuning them to see the effect. Here the range is restricted to [0.1-2]\n"
      ]
    },
    {
      "cell_type": "code",
      "execution_count": null,
      "metadata": {
        "colab": {
          "base_uri": "https://localhost:8080/",
          "height": 415
        },
        "id": "nrRNZ-AGCxWz",
        "outputId": "76aec098-11ed-40cd-8867-b51778b7b78f"
      },
      "outputs": [],
      "source": [
        "# @title #### DIY: UMAP parameters choice {display-mode: \"form\"}\n",
        "\n",
        "a = 1 # @param {type:\"slider\", min:0.1, max:2, step:0.05}\n",
        "b = 1 # @param {type:\"slider\", min:0.1, max:2, step:0.05}\n",
        "\n",
        "print(f'Chosen parameters {a} and {b}')\n",
        "print('running UMAP...')\n",
        "sc.tl.umap(adata, a=a, b=b, random_state=123)\n",
        "print('Plotting')\n",
        "plt.rcParams['figure.figsize']=(4,4)\n",
        "fig, axs = plt.subplots(1)\n",
        "sc.pl.umap(adata, ax=axs, show=True)"
      ]
    },
    {
      "cell_type": "code",
      "execution_count": null,
      "metadata": {
        "colab": {
          "base_uri": "https://localhost:8080/",
          "height": 355
        },
        "id": "x9VlXaj8K8bP",
        "outputId": "fe1c36c6-3f13-4720-8f33-b91fb5f50844"
      },
      "outputs": [],
      "source": [
        "#| echo: false\n",
        "git_url='https://raw.githubusercontent.com/hds-sandbox/scverse-2024-workshop/main/Questions/quiz02.json'\n",
        "display_quiz(git_url, 1, shuffle_answers=True)"
      ]
    },
    {
      "cell_type": "markdown",
      "metadata": {
        "id": "Y7cD_1uqQ4Xj"
      },
      "source": [
        "## Geometrical approach - topoMETRY\n",
        "\n",
        "topoMetry works by **modelling the geometry of the shape formed by the data points in high dimension**. This is done through the so-called discrete Laplace-Beltrami Operator (LBO). For reference, there is a [paper](https://www.biorxiv.org/content/10.1101/2022.03.14.484134v3) and a [documentation page](https://topometry.readthedocs.io/en/latest/) for the package.\n",
        "\n",
        "### How it works (very, very briefly)\n",
        "\n",
        "In few words, the LBO finds a sort of principal components (called eigenfunctions or eigenvectors) of the geometrical shape formed by the data, which *pieced together* **approximate the original dataset** (figure below, right).\n",
        "\n",
        "Usually the **eigenvectors are less than the dimension of the data**, because many of the genes are related by similar expression patterns (figure below, left). The number of eigenvector is the **intrinsic dimensionality** of the data, which tells you **how many dimensions you need to describe the geometry of the data surface.**\n",
        "\n",
        "![](https://raw.githubusercontent.com/hds-sandbox/scverse-2024-workshop/webpage-quarto/img/LBO.png)\n",
        "\n",
        "### What can you use the LBO for\n",
        "\n",
        "The LBO is used in the same way as the PCA, which is, **its eigenvector matrix is the starting point for other dimensionality reductions.** Now, anything you used will be based on geometry and not on PCA distances.\n",
        "\n",
        "Below we go through the steps of using such a tool. Remember: no distance preservation is involved in calculating the LBO, it is all about the geometry (curvature and tangent space in each point).\n",
        "\n",
        "### Calculate Intrinsic dimensionality\n",
        "\n",
        "First of all, we subset the data to the highly variable genes."
      ]
    },
    {
      "cell_type": "code",
      "execution_count": null,
      "metadata": {
        "id": "xqMO11ifUBXD"
      },
      "outputs": [],
      "source": [
        "adataHVG = adata[:, adata.var.highly_variable].copy()"
      ]
    },
    {
      "cell_type": "markdown",
      "metadata": {
        "id": "lO_S70TDVuQQ"
      },
      "source": [
        "Then, we calculate the intrinsic dimensionality of the data. This is done with two indices (FSA, MLE) **tested on different neighborhoods of each cell**. Those two indices estimate the same thing, which is, the intrinsic dimensionality of each cell and its neighbors.\n",
        "\n",
        "The result is a histogram for which the guideline is to choose the peak. However, tails are also important and can give extra dynamics in the data, so I usually select the number of dimensions on the right side of the peak (before the tail flattens out).\n",
        "\n",
        "FSA and MLE usually are quite concordant. I usually select the highest estimation of intrinsic dimensionality. Here, for example I choose 250 dimensions."
      ]
    },
    {
      "cell_type": "code",
      "execution_count": null,
      "metadata": {
        "colab": {
          "base_uri": "https://localhost:8080/",
          "height": 795
        },
        "id": "EjL4LypJLRSf",
        "outputId": "b9e92db0-cd3e-4231-ee2d-1a5b418f817f"
      },
      "outputs": [],
      "source": [
        "plt.rcParams['figure.figsize']=(4,4)\n",
        "tp.tpgraph.IntrinsicDim(\n",
        "        methods=['fsa','mle'],\n",
        "        k=range(10, 60, 10),\n",
        "        backend='hnswlib',\n",
        "        metric='euclidean',\n",
        "        n_jobs=-1,\n",
        "        plot=True,\n",
        "        random_state=123).fit(adataHVG.X)"
      ]
    },
    {
      "cell_type": "markdown",
      "metadata": {
        "id": "astJiIMBW4Y0"
      },
      "source": [
        "### Calculate the LBO\n",
        "\n",
        "Now it is time to calculate the Laplace-Beltrami Operator. This is done in a computer by creating **a matrix, where each column is an eigenvector of the operator**. Every eigenvector describes a geometrical characteristics of the data surface.\n",
        "Topometry gives choice of methods to calculate LBO with projections and clusters based on that. You can choose\n",
        "\n",
        "- `kernels` how to calculate similarities\n",
        "- `eigenmap_method` how to calculate LBO\n",
        "- `projections` which dimensionality reduction to do starting from LBO\n",
        "- `resolution` the LBO-based clustering resolution\n",
        "\n",
        "Do not worry about the first two (find more in the [topometry docs](https://topometry.readthedocs.io/en/latest/)). For the third one we choose [diffusion maps](https://academic.oup.com/bioinformatics/article/31/18/2989/241305) (`MAP`) and `PaCMAP` ([which is superior to UMAP in various ways](https://jmlr.org/papers/v22/20-1061.html)). For the clustering resolution we choose 0.5."
      ]
    },
    {
      "cell_type": "code",
      "execution_count": null,
      "metadata": {
        "colab": {
          "base_uri": "https://localhost:8080/"
        },
        "id": "5lyeejHDLh2W",
        "outputId": "b39c4428-e4fa-4c74-dd47-5f7fe08c17f5"
      },
      "outputs": [],
      "source": [
        "# Run TopOMetry\n",
        "\n",
        "# Create a TopOGraph object with the desired parameters\n",
        "tg = tp.TopOGraph(n_eigs=250, n_jobs=-1, verbosity=1, random_state=42)\n",
        "\n",
        "# Fit some models to the data\n",
        "adata = tp.sc.topological_workflow(adata, tg,\n",
        "                                  kernels=['bw_adaptive'],\n",
        "                                  eigenmap_methods=['LE'],\n",
        "                                  projections=['MAP', 'PaCMAP'],\n",
        "                                  resolution=.5)"
      ]
    },
    {
      "cell_type": "markdown",
      "metadata": {
        "id": "tyv5oCv5wadf"
      },
      "source": [
        "The resulting projections are inside `adata.obsm` and have long names which combine the three parameters chosen before to run `topoMetry`.\n",
        "\n",
        "Note also we have a clustering in `adata.obs.w_adaptive from LE with bw_adaptive_leiden` ! This is a clustering based on the LBO instead of the PCA, and calculated together with the projections.\n",
        "\n",
        "The eigenvector matrix is also there and called `X_LE with bw_adaptive`"
      ]
    },
    {
      "cell_type": "code",
      "execution_count": null,
      "metadata": {
        "colab": {
          "base_uri": "https://localhost:8080/"
        },
        "id": "e60F2yVLVnMi",
        "outputId": "7e3bc6d7-88e6-4cb2-d2c2-3139c0f3bf97"
      },
      "outputs": [],
      "source": [
        "adata.obsm"
      ]
    },
    {
      "cell_type": "markdown",
      "metadata": {
        "id": "WWc1ahvyxJO-"
      },
      "source": [
        "We rename some of the objects to make them more practically usable"
      ]
    },
    {
      "cell_type": "code",
      "execution_count": null,
      "metadata": {
        "id": "sy46L_JzMLEc"
      },
      "outputs": [],
      "source": [
        "adata.obsm['X_topoMAP'] = adata.obsm['X_MAP of bw_adaptive from LE with bw_adaptive']\n",
        "adata.obsm['X_topoPaCMAP'] = adata.obsm['X_PaCMAP of LE with bw_adaptive']\n",
        "adata.obs['topo_leiden'] = adata.obs['bw_adaptive from LE with bw_adaptive_leiden']\n",
        "adata.obsm['X_eigenvectors'] = adata.obsm['X_LE with bw_adaptive']"
      ]
    },
    {
      "cell_type": "markdown",
      "metadata": {
        "id": "gGvDn7z1xcQT"
      },
      "source": [
        "Now, let's look at the clusters on the LBO-based PaCMAP projection and clustering"
      ]
    },
    {
      "cell_type": "code",
      "execution_count": null,
      "metadata": {
        "colab": {
          "base_uri": "https://localhost:8080/",
          "height": 386
        },
        "id": "-tZYnHMWWJoy",
        "outputId": "63b2e5d4-4705-45cf-e1b3-1b3c1e97dcdf"
      },
      "outputs": [],
      "source": [
        "plt.rcParams['figure.figsize']=(4,4)\n",
        "sc.pl.embedding(adata, basis='topoPaCMAP', color=['topo_leiden'],\n",
        "                 palette='tab20', ncols=2, legend_loc='on data', legend_fontsize=10)"
      ]
    },
    {
      "cell_type": "markdown",
      "metadata": {
        "id": "BmfLxWkxxp5D"
      },
      "source": [
        "Note how the diffusion maps below lose part of the structure creating a sparse blob of clusters"
      ]
    },
    {
      "cell_type": "code",
      "execution_count": null,
      "metadata": {
        "colab": {
          "base_uri": "https://localhost:8080/",
          "height": 386
        },
        "id": "MRXsDSwgP94y",
        "outputId": "eb77ee3b-1083-47b0-868e-6319e8b816c5"
      },
      "outputs": [],
      "source": [
        "sc.pl.embedding(adata, basis='topoMAP', color=['topo_leiden'],\n",
        "                 palette='tab20', ncols=2, legend_loc='on data', legend_fontsize=10)"
      ]
    },
    {
      "cell_type": "markdown",
      "metadata": {
        "id": "v2qt2UFPxx9f"
      },
      "source": [
        "This is instead the UMAP based on PCA, which is maybe the most similar to LBO + PaCMAP"
      ]
    },
    {
      "cell_type": "code",
      "execution_count": null,
      "metadata": {
        "colab": {
          "base_uri": "https://localhost:8080/",
          "height": 386
        },
        "id": "-ZUz1xDHQBJ7",
        "outputId": "358ea44a-0c58-4873-8141-cc46d746cccc"
      },
      "outputs": [],
      "source": [
        "sc.pl.embedding(adata, basis='umap', color=['topo_leiden'],\n",
        "                 palette='tab20', ncols=2, legend_loc='on data', legend_fontsize=10)"
      ]
    },
    {
      "cell_type": "markdown",
      "metadata": {
        "id": "_ON043Ctx6kb"
      },
      "source": [
        "Here I create a list of cell types and their markers, which I then assign using markers scores [calculated as in Seurat](https://satijalab.org/seurat/reference/addmodulescore) using one of the scripts we downloaded"
      ]
    },
    {
      "cell_type": "code",
      "execution_count": null,
      "metadata": {
        "id": "wRKpqZgmQhFK"
      },
      "outputs": [],
      "source": [
        "markers = dict() #make an empty dictionary\n",
        "### SPERMATOCYTOGENESIS\n",
        "markers['SpermatogoniaA'] = ['ID4','HMGA1']\n",
        "markers['SpermatogoniaB'] = ['MKI67','DMRT1','STRA8']\n",
        "markers['SpermatocytesI'] = ['MEIOB','PRSS50','SYCP1','TEX101']\n",
        "markers['SpermatocytesII'] = ['PIWIL1','ACRV1','SPATA16','CLGN']\n",
        "### SPERMIOGENESIS\n",
        "markers['Round.Spt'] = ['SPATA9','SPAM1'] #Round spermatids\n",
        "markers['Elong.Spt'] = ['PRM1','PRM2'] #Elongated spermatids\n",
        "### SOMATIC CELLS\n",
        "markers['Sertoli'] = ['CTSL', 'VIM', 'GATA4']\n",
        "markers['Macroph'] = ['CD163','TYROBP']\n",
        "markers['Leydig'] = ['CFD']\n",
        "markers['Endothelial'] = ['CD34']\n",
        "markers['Myoid'] = ['ACTA2']\n",
        "markers['Smooth_Muscle'] = ['RGS5']"
      ]
    },
    {
      "cell_type": "code",
      "execution_count": null,
      "metadata": {
        "id": "KAGlDOjqRubX"
      },
      "outputs": [],
      "source": [
        "markers_scores, adata = marker_score(markers, adata)"
      ]
    },
    {
      "cell_type": "code",
      "execution_count": null,
      "metadata": {
        "id": "HxEbHbFRRwOv"
      },
      "outputs": [],
      "source": [
        "adata.obs['clusters'] = clustersByScores(adata, markers_scores, leidenClusters=adata.obs['topo_leiden'])"
      ]
    },
    {
      "cell_type": "markdown",
      "metadata": {
        "id": "AKqmqztXya0H"
      },
      "source": [
        "We can look at the clustering. See how the cell types enclosed in a tubule are often close together, while other cell types are in separated clusters"
      ]
    },
    {
      "cell_type": "code",
      "execution_count": null,
      "metadata": {
        "colab": {
          "base_uri": "https://localhost:8080/",
          "height": 390
        },
        "id": "KCxHZgX6WWnA",
        "outputId": "79f07dbb-0505-4ff6-8d12-4197a661a089"
      },
      "outputs": [],
      "source": [
        "sc.pl.embedding(adata, basis='topoPaCMAP', color=['topo_leiden','clusters'],\n",
        "                 palette='tab20', ncols=2, legend_loc='on data', legend_fontsize=10)"
      ]
    },
    {
      "cell_type": "markdown",
      "metadata": {
        "id": "q0kugbAoynfG"
      },
      "source": [
        "### Plot single LBO eigenvectors\n",
        "\n",
        "Now, what about looking at the eigenvectors of the LBO, and see what tey highlight in our data?\n",
        "\n",
        "Below, notice that the eigenvectors matrix has 250 columns, where each is an eigenvector. Eigenvectors are already normalized.\n"
      ]
    },
    {
      "cell_type": "code",
      "execution_count": null,
      "metadata": {
        "colab": {
          "base_uri": "https://localhost:8080/"
        },
        "id": "ROJk4wSxWmRI",
        "outputId": "75509ddc-1e7e-4466-903f-6ee6ea40eaa2"
      },
      "outputs": [],
      "source": [
        "adata.obsm['X_eigenvectors'].shape"
      ]
    },
    {
      "cell_type": "markdown",
      "metadata": {
        "id": "qA7QToE9nL-U"
      },
      "source": [
        "Below there is a question that you can solve by exploring some eigenvectors with the input box after the question:"
      ]
    },
    {
      "cell_type": "code",
      "execution_count": null,
      "metadata": {
        "colab": {
          "base_uri": "https://localhost:8080/",
          "height": 384
        },
        "id": "a0GdLEs9_P1r",
        "outputId": "7cc3e1f6-1bfd-4877-cae7-da9b6b8628c8"
      },
      "outputs": [],
      "source": [
        "#| echo: false\n",
        "git_url='https://raw.githubusercontent.com/hds-sandbox/scverse-2024-workshop/main/Questions/quiz03.json'\n",
        "display_quiz(git_url, 1, shuffle_answers=True)"
      ]
    },
    {
      "cell_type": "code",
      "execution_count": null,
      "metadata": {
        "colab": {
          "base_uri": "https://localhost:8080/",
          "height": 890
        },
        "id": "eY7BVLMS3iEm",
        "outputId": "c0882aea-0aa5-485e-e9f2-ad1511e4dbf1"
      },
      "outputs": [],
      "source": [
        "# @title #### DIY: Choose an LBO eigenvector {display-mode: \"form\"}\n",
        "component = 0 # @param {type:\"number\", min:0, max:250, step:1}\n",
        "\n",
        "adata.obs[f'Eigenvector_{component}'] = adata.obsm['X_eigenvectors'][:,component]\n",
        "\n",
        "plt.rcParams['figure.figsize']=(4,4)\n",
        "sc.pl.embedding(adata, basis='topoPaCMAP', color=[f'Eigenvector_{component}','clusters'],\n",
        "                 palette='tab20', ncols=3, legend_fontsize=10)\n",
        "\n",
        "plt.rcParams['figure.figsize']=(12,4)\n",
        "print(f'Scores of component {component} by cluster')\n",
        "f = sc.pl.violin(adata, keys=[f'Eigenvector_{component}'], groupby='clusters', palette='tab20', rotation=90)"
      ]
    },
    {
      "cell_type": "markdown",
      "metadata": {
        "id": "8hQCph8J7raG"
      },
      "source": [
        "### Some distortion diagnosic\n",
        "\n",
        "**How to choose a projection based on LBO?** We can look at the **distortion** of each projection. As when drawing a map of the globe, projecting single cell data will create distortions. Those can be determined with the riemannian metric.\n",
        "\n",
        "Topometry uses the metric to **draw ellipses around some of the points to show distortions**. The **directions** in which the ellipses are wider are the directions of distortion, and the **size of the ellipses' axae** represent the distortion intensity.\n",
        "\n",
        "#### Running the diagnostics\n",
        "\n",
        "Below we plot distortion ellipses on 500 points for all the projections we based on LBO."
      ]
    },
    {
      "cell_type": "code",
      "execution_count": null,
      "metadata": {
        "colab": {
          "base_uri": "https://localhost:8080/",
          "height": 735
        },
        "id": "Fn7E2_v8YBIA",
        "outputId": "6dc2508f-6944-477e-9c11-bd04b84b54cb"
      },
      "outputs": [],
      "source": [
        "# Get the graph Laplacian of our base graph kernel:\n",
        "L = tg.base_kernel.L\n",
        "\n",
        "# Define how many ellipses to plot:\n",
        "n_plot = 500\n",
        "\n",
        "# Convert the labels to integers:\n",
        "labels = adata.obs['clusters'].cat.codes\n",
        "\n",
        "\n",
        "# Name the projections you want to plot:\n",
        "projections = ['topoMAP', 'topoPaCMAP']\n",
        "\n",
        "# Plot the Riemann metric\n",
        "for name in projections:\n",
        "    xy_coord = adata.obsm['X_' + name][:,:2]\n",
        "    tp.pl.plot_riemann_metric(xy_coord, # The coordinates of the projection\n",
        "                              L,        # The graph Laplacian\n",
        "                              std=0.5,  # A scaling factor for the ellipses size\n",
        "                              n_plot=n_plot, # How many ellipses to plot\n",
        "                              labels=labels,\n",
        "                              title = f'Riemannian Metric \\n for {name}',\n",
        "                              cmap='tab20', # For coloring\n",
        "                              random_state=tg.random_state, # For coloring with same colors as before\n",
        "                              figsize=(4,4) # Size of the figure (NEEDS TO BE SQUARE!!!),\n",
        "                             )"
      ]
    },
    {
      "cell_type": "markdown",
      "metadata": {
        "id": "CoMGK9x3CUL0"
      },
      "source": [
        "Look at the first plot with diffusion maps. Ellipses are pretty large and many of them have both axae that are wide, meaning distortions in both directions of the 2D space.\n",
        "\n",
        "- Usually, cells at the edge of the plot have some **distortion pointing towards the center**. This is phisyological and means that distances are not as large as they appear in the 2D space (similarly to distances which are wrong at the edges of the planar world map).\n",
        "\n",
        "- If **all cells** including those at the center of the plot have large distortions, then the projection is not reliable, because all points coordinates are distorted.\n",
        "\n",
        "The diffusion map does not seem a very good projection of the data. PaCMap is definitely more reliable, showing mostly only distortion towards the center from the edges."
      ]
    },
    {
      "cell_type": "markdown",
      "metadata": {
        "id": "7gAtVxc89vTU"
      },
      "source": [
        "# Done!\n",
        "\n",
        "So this is the end of the workshop. What are the most important points to get out of this?\n",
        "\n",
        "- **PCA is not too reliable** to base your research on, even though it is accepted as the gold standard in preprocessing. It flattens out non-linearity and creates biases in the other methods which use PCA\n",
        "- **LBO models geometry** and create harmonics to which you can base any other projection on\n",
        "- **There is no best** projection method - evaluate distortions of various LBO-based projections and choose accordingly. **Do not assume one method is best** (as what you usually do with PCA + UMAP)"
      ]
    },
    {
      "cell_type": "markdown",
      "metadata": {
        "id": "lTAsOYBoLtha"
      },
      "source": [
        "# Not Done! Bonus: Interactive plots\n",
        "\n",
        "You might want to document your notebook on your own webpage, and why not, show some interactive plots. Here you can do it easily with a library called [`plotly express`](https://plotly.com/python/plotly-express/).\n",
        "\n",
        "For example you can plot your PaCMAP with clusters and with a specific gene expression when you hover the mouse."
      ]
    },
    {
      "cell_type": "code",
      "execution_count": null,
      "metadata": {
        "id": "nCEdIOlZ4aoH"
      },
      "outputs": [],
      "source": [
        "import plotly.io as pio\n",
        "pio.renderers.default='colab'"
      ]
    },
    {
      "cell_type": "code",
      "execution_count": null,
      "metadata": {
        "colab": {
          "base_uri": "https://localhost:8080/",
          "height": 542
        },
        "id": "wDxOTopFMHon",
        "outputId": "387a3b77-ae9a-4f80-e819-99cc0a11341a"
      },
      "outputs": [],
      "source": [
        "fig = px.scatter(x=adata.obsm['X_topoPaCMAP'][:,0],\n",
        "                 y=adata.obsm['X_topoPaCMAP'][:,1],\n",
        "                 color=adata.obs.clusters,\n",
        "                 hover_name=pd.Series(adata[:,\"PRM1\"].X[:,0] ),\n",
        "                 title=\"Clusters on PacMAP and PRM1 expression on hovering\")\n",
        "fig.show()"
      ]
    },
    {
      "cell_type": "markdown",
      "metadata": {
        "id": "M55r0oZePOoa"
      },
      "source": [
        "You can also use bubble sizes to look at positive numbers, such as the eccentricity of the ellipses we visualized before.Higher eccentricity means higher distortion in axae directions. You can add an animation slider, here for example on different batches."
      ]
    },
    {
      "cell_type": "code",
      "execution_count": null,
      "metadata": {
        "id": "TG8pJeMaPvn2"
      },
      "outputs": [],
      "source": [
        "from topo.utils import get_eccentricity\n",
        "\n",
        "L = tg.base_kernel.L\n",
        "\n",
        "eccentricities = get_eccentricity(adata.obsm['X_topoMAP'], L)\n",
        "\n",
        "adata.obs['topoMAP_eccentricities'] = eccentricities"
      ]
    },
    {
      "cell_type": "code",
      "execution_count": null,
      "metadata": {
        "colab": {
          "base_uri": "https://localhost:8080/",
          "height": 542
        },
        "id": "Ef1cdChPMeDa",
        "outputId": "ea63aa3e-e7f5-493b-df03-f99db6dd31a3"
      },
      "outputs": [],
      "source": [
        "fig = px.scatter(x=adata.obsm['X_topoMAP'][:,0],\n",
        "                 y=adata.obsm['X_topoMAP'][:,1],\n",
        "                 size=adata.obs.topoMAP_eccentricities,\n",
        "                 size_max=10,\n",
        "                 color=adata.obs.clusters,\n",
        "                 animation_frame=adata.obs.batch,\n",
        "                 title=\"Diffusion Maps colored by cluster, sized by eccentricities with selector for batches\")\n",
        "fig.show()"
      ]
    },
    {
      "cell_type": "markdown",
      "metadata": {
        "id": "K9dShcdRbqax"
      },
      "source": [
        "The same plot for PaCMAP shows smaller eccentricities as you would expect."
      ]
    },
    {
      "cell_type": "code",
      "execution_count": null,
      "metadata": {
        "id": "Bo1kU2jdbuz3"
      },
      "outputs": [],
      "source": [
        "from topo.utils import get_eccentricity\n",
        "\n",
        "L = tg.base_kernel.L\n",
        "\n",
        "eccentricities = get_eccentricity(adata.obsm['X_topoPaCMAP'], L)\n",
        "\n",
        "adata.obs['topoPaCMAP_eccentricities'] = eccentricities"
      ]
    },
    {
      "cell_type": "code",
      "execution_count": null,
      "metadata": {
        "colab": {
          "base_uri": "https://localhost:8080/",
          "height": 542
        },
        "id": "eyxIQ4A4b5tk",
        "outputId": "5cf0f474-d64a-4bbf-b16b-28f44fbd6462"
      },
      "outputs": [],
      "source": [
        "fig = px.scatter(x=adata.obsm['X_topoPaCMAP'][:,0],\n",
        "                 y=adata.obsm['X_topoPaCMAP'][:,1],\n",
        "                 size=adata.obs.topoPaCMAP_eccentricities,\n",
        "                 size_max=10,\n",
        "                 color=adata.obs.clusters,\n",
        "                 animation_frame=adata.obs.batch,\n",
        "                 title=\"PaCMAP colored by cluster, sized by eccentricities\\nwith selector for batches\")\n",
        "fig.show()"
      ]
    },
    {
      "cell_type": "markdown",
      "metadata": {
        "id": "_jRhBmD5ZS87"
      },
      "source": [
        "# Done for good!\n",
        "\n",
        "Ok now you are really done. You can see all the plots above in the web version of this tutorial!"
      ]
    }
  ],
  "metadata": {
    "colab": {
      "provenance": [],
      "toc_visible": true
    },
    "kernelspec": {
      "display_name": "Python 3",
      "name": "python3"
    },
    "language_info": {
      "name": "python"
    }
  },
  "nbformat": 4,
  "nbformat_minor": 0
}
